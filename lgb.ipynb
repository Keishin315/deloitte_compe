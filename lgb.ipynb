{
  "nbformat": 4,
  "nbformat_minor": 0,
  "metadata": {
    "colab": {
      "name": "lgb.ipynb",
      "provenance": [],
      "collapsed_sections": [],
      "mount_file_id": "1-PDmVxVjObuXTN3ChQLwLC3Nes0fFCxq",
      "authorship_tag": "ABX9TyPzGq1Yv2lj8oELaToPDBLj",
      "include_colab_link": true
    },
    "kernelspec": {
      "name": "python3",
      "display_name": "Python 3"
    },
    "language_info": {
      "name": "python"
    }
  },
  "cells": [
    {
      "cell_type": "markdown",
      "metadata": {
        "id": "view-in-github",
        "colab_type": "text"
      },
      "source": [
        "<a href=\"https://colab.research.google.com/github/Keishin315/sony_compe/blob/main/lgb.ipynb\" target=\"_parent\"><img src=\"https://colab.research.google.com/assets/colab-badge.svg\" alt=\"Open In Colab\"/></a>"
      ]
    },
    {
      "cell_type": "code",
      "source": [
        "#baselineモデルLB4043"
      ],
      "metadata": {
        "id": "1sEBp71JPWrG"
      },
      "execution_count": 1,
      "outputs": []
    },
    {
      "cell_type": "code",
      "source": [
        "!pip install optuna\n",
        "#予測していく\n",
        "import optuna.integration.lightgbm as olgb\n",
        "import lightgbm as lgb\n",
        "import pandas as pd\n",
        "from sklearn.metrics import mean_squared_error\n",
        "from sklearn.model_selection import train_test_split\n",
        "import numpy as np\n",
        "traindata=pd.read_csv('/content/drive/MyDrive/traindata.csv')\n",
        "testdata=pd.read_csv('/content/drive/MyDrive/testdata.csv')\n",
        "toriginal=pd.read_csv('/content/drive/MyDrive/toroginal.csv')\n",
        "original=pd.read_csv('/content/drive/MyDrive/original.csv')\n",
        "target=pd.read_csv('/content/drive/MyDrive/target.csv')\n",
        "stcapa=pd.read_csv('/content/drive/MyDrive/stcapa.csv')\n",
        "tstcapa=pd.read_csv('/content/drive/MyDrive/tstcapa.csv')"
      ],
      "metadata": {
        "id": "bHqdcVaWZhqD"
      },
      "execution_count": null,
      "outputs": []
    },
    {
      "cell_type": "code",
      "source": [
        "import lightgbm as lgb\n",
        "pre = [ 0 for i in range(len(testdata))]\n",
        "for i in range(30):\n",
        "  gbm = lgb.LGBMRegressor(n_estimators=50,\n",
        "                            n_jobs=-1,\n",
        "                            num_leaves=int(2**6.18),\n",
        "                            feature_fraction=.63,\n",
        "                            lambda_l1=10**-2.68,\n",
        "                            lambda_l2=10**-2.67,\n",
        "                            min_data_in_leaf=3,\n",
        "                            learning_rate=10**-1.46,\n",
        "                            num_boost_round=1000,\n",
        "                            random_state=42+i)\n",
        "  gbm.fit(traindata,target)\n",
        "  pre+=gbm.predict(testdata)/30\n",
        "\n"
      ],
      "metadata": {
        "id": "2nR-s7qfXD_L",
        "colab": {
          "base_uri": "https://localhost:8080/"
        },
        "outputId": "7d9c0f52-b38a-486c-fadf-49e1cd2d1f3a"
      },
      "execution_count": 5,
      "outputs": [
        {
          "output_type": "stream",
          "name": "stderr",
          "text": [
            "/usr/local/lib/python3.7/dist-packages/lightgbm/engine.py:118: UserWarning: Found `num_boost_round` in params. Will use it instead of argument\n",
            "  warnings.warn(\"Found `{}` in params. Will use it instead of argument\".format(alias))\n"
          ]
        }
      ]
    },
    {
      "cell_type": "code",
      "source": [
        "pre=pd.DataFrame(pre)\n",
        "for i in range(459):\n",
        "  pre[0][i]=pre[0][i]*tstcapa['0'][i]\n",
        "pre"
      ],
      "metadata": {
        "id": "qtoP_2Y4cKpd",
        "colab": {
          "base_uri": "https://localhost:8080/",
          "height": 419
        },
        "outputId": "c46adb93-8d45-493b-8d8a-0d9ade94ac3a"
      },
      "execution_count": 6,
      "outputs": [
        {
          "output_type": "execute_result",
          "data": {
            "text/plain": [
              "                0\n",
              "0    44564.391016\n",
              "1    17072.607307\n",
              "2    23701.392127\n",
              "3    17983.307907\n",
              "4    18989.056232\n",
              "..            ...\n",
              "454  27053.262156\n",
              "455  19992.032252\n",
              "456  26865.726471\n",
              "457  30784.593246\n",
              "458  16163.857335\n",
              "\n",
              "[459 rows x 1 columns]"
            ],
            "text/html": [
              "\n",
              "  <div id=\"df-b638653c-37a5-4e3c-916b-3c011e40e9d7\">\n",
              "    <div class=\"colab-df-container\">\n",
              "      <div>\n",
              "<style scoped>\n",
              "    .dataframe tbody tr th:only-of-type {\n",
              "        vertical-align: middle;\n",
              "    }\n",
              "\n",
              "    .dataframe tbody tr th {\n",
              "        vertical-align: top;\n",
              "    }\n",
              "\n",
              "    .dataframe thead th {\n",
              "        text-align: right;\n",
              "    }\n",
              "</style>\n",
              "<table border=\"1\" class=\"dataframe\">\n",
              "  <thead>\n",
              "    <tr style=\"text-align: right;\">\n",
              "      <th></th>\n",
              "      <th>0</th>\n",
              "    </tr>\n",
              "  </thead>\n",
              "  <tbody>\n",
              "    <tr>\n",
              "      <th>0</th>\n",
              "      <td>44564.391016</td>\n",
              "    </tr>\n",
              "    <tr>\n",
              "      <th>1</th>\n",
              "      <td>17072.607307</td>\n",
              "    </tr>\n",
              "    <tr>\n",
              "      <th>2</th>\n",
              "      <td>23701.392127</td>\n",
              "    </tr>\n",
              "    <tr>\n",
              "      <th>3</th>\n",
              "      <td>17983.307907</td>\n",
              "    </tr>\n",
              "    <tr>\n",
              "      <th>4</th>\n",
              "      <td>18989.056232</td>\n",
              "    </tr>\n",
              "    <tr>\n",
              "      <th>...</th>\n",
              "      <td>...</td>\n",
              "    </tr>\n",
              "    <tr>\n",
              "      <th>454</th>\n",
              "      <td>27053.262156</td>\n",
              "    </tr>\n",
              "    <tr>\n",
              "      <th>455</th>\n",
              "      <td>19992.032252</td>\n",
              "    </tr>\n",
              "    <tr>\n",
              "      <th>456</th>\n",
              "      <td>26865.726471</td>\n",
              "    </tr>\n",
              "    <tr>\n",
              "      <th>457</th>\n",
              "      <td>30784.593246</td>\n",
              "    </tr>\n",
              "    <tr>\n",
              "      <th>458</th>\n",
              "      <td>16163.857335</td>\n",
              "    </tr>\n",
              "  </tbody>\n",
              "</table>\n",
              "<p>459 rows × 1 columns</p>\n",
              "</div>\n",
              "      <button class=\"colab-df-convert\" onclick=\"convertToInteractive('df-b638653c-37a5-4e3c-916b-3c011e40e9d7')\"\n",
              "              title=\"Convert this dataframe to an interactive table.\"\n",
              "              style=\"display:none;\">\n",
              "        \n",
              "  <svg xmlns=\"http://www.w3.org/2000/svg\" height=\"24px\"viewBox=\"0 0 24 24\"\n",
              "       width=\"24px\">\n",
              "    <path d=\"M0 0h24v24H0V0z\" fill=\"none\"/>\n",
              "    <path d=\"M18.56 5.44l.94 2.06.94-2.06 2.06-.94-2.06-.94-.94-2.06-.94 2.06-2.06.94zm-11 1L8.5 8.5l.94-2.06 2.06-.94-2.06-.94L8.5 2.5l-.94 2.06-2.06.94zm10 10l.94 2.06.94-2.06 2.06-.94-2.06-.94-.94-2.06-.94 2.06-2.06.94z\"/><path d=\"M17.41 7.96l-1.37-1.37c-.4-.4-.92-.59-1.43-.59-.52 0-1.04.2-1.43.59L10.3 9.45l-7.72 7.72c-.78.78-.78 2.05 0 2.83L4 21.41c.39.39.9.59 1.41.59.51 0 1.02-.2 1.41-.59l7.78-7.78 2.81-2.81c.8-.78.8-2.07 0-2.86zM5.41 20L4 18.59l7.72-7.72 1.47 1.35L5.41 20z\"/>\n",
              "  </svg>\n",
              "      </button>\n",
              "      \n",
              "  <style>\n",
              "    .colab-df-container {\n",
              "      display:flex;\n",
              "      flex-wrap:wrap;\n",
              "      gap: 12px;\n",
              "    }\n",
              "\n",
              "    .colab-df-convert {\n",
              "      background-color: #E8F0FE;\n",
              "      border: none;\n",
              "      border-radius: 50%;\n",
              "      cursor: pointer;\n",
              "      display: none;\n",
              "      fill: #1967D2;\n",
              "      height: 32px;\n",
              "      padding: 0 0 0 0;\n",
              "      width: 32px;\n",
              "    }\n",
              "\n",
              "    .colab-df-convert:hover {\n",
              "      background-color: #E2EBFA;\n",
              "      box-shadow: 0px 1px 2px rgba(60, 64, 67, 0.3), 0px 1px 3px 1px rgba(60, 64, 67, 0.15);\n",
              "      fill: #174EA6;\n",
              "    }\n",
              "\n",
              "    [theme=dark] .colab-df-convert {\n",
              "      background-color: #3B4455;\n",
              "      fill: #D2E3FC;\n",
              "    }\n",
              "\n",
              "    [theme=dark] .colab-df-convert:hover {\n",
              "      background-color: #434B5C;\n",
              "      box-shadow: 0px 1px 3px 1px rgba(0, 0, 0, 0.15);\n",
              "      filter: drop-shadow(0px 1px 2px rgba(0, 0, 0, 0.3));\n",
              "      fill: #FFFFFF;\n",
              "    }\n",
              "  </style>\n",
              "\n",
              "      <script>\n",
              "        const buttonEl =\n",
              "          document.querySelector('#df-b638653c-37a5-4e3c-916b-3c011e40e9d7 button.colab-df-convert');\n",
              "        buttonEl.style.display =\n",
              "          google.colab.kernel.accessAllowed ? 'block' : 'none';\n",
              "\n",
              "        async function convertToInteractive(key) {\n",
              "          const element = document.querySelector('#df-b638653c-37a5-4e3c-916b-3c011e40e9d7');\n",
              "          const dataTable =\n",
              "            await google.colab.kernel.invokeFunction('convertToInteractive',\n",
              "                                                     [key], {});\n",
              "          if (!dataTable) return;\n",
              "\n",
              "          const docLinkHtml = 'Like what you see? Visit the ' +\n",
              "            '<a target=\"_blank\" href=https://colab.research.google.com/notebooks/data_table.ipynb>data table notebook</a>'\n",
              "            + ' to learn more about interactive tables.';\n",
              "          element.innerHTML = '';\n",
              "          dataTable['output_type'] = 'display_data';\n",
              "          await google.colab.output.renderOutput(dataTable, element);\n",
              "          const docLink = document.createElement('div');\n",
              "          docLink.innerHTML = docLinkHtml;\n",
              "          element.appendChild(docLink);\n",
              "        }\n",
              "      </script>\n",
              "    </div>\n",
              "  </div>\n",
              "  "
            ]
          },
          "metadata": {},
          "execution_count": 6
        }
      ]
    },
    {
      "cell_type": "code",
      "source": [
        "samsubdata=pd.read_csv('sample_submit-4.csv',header=None)\n",
        "samsubdata.iloc[:,1]=0\n",
        "samsubdata[1]=pd.DataFrame(pd.DataFrame(pre))\n",
        "naga=pd.DataFrame(list(toriginal[toriginal['venue']=='トランスコスモススタジアム長崎'].id))\n",
        "for i in range(459):\n",
        "  if(samsubdata[0][i] in naga[0].values):\n",
        "    samsubdata[1][i]=10200\n",
        "samsubdata.to_csv('sub1.csv',index=False,header=False)"
      ],
      "metadata": {
        "id": "Nz1jYombIAU0",
        "colab": {
          "base_uri": "https://localhost:8080/"
        },
        "outputId": "edf01641-27b8-4009-e23f-936bebc9b015"
      },
      "execution_count": 7,
      "outputs": [
        {
          "output_type": "stream",
          "name": "stderr",
          "text": [
            "/usr/local/lib/python3.7/dist-packages/ipykernel_launcher.py:7: SettingWithCopyWarning: \n",
            "A value is trying to be set on a copy of a slice from a DataFrame\n",
            "\n",
            "See the caveats in the documentation: https://pandas.pydata.org/pandas-docs/stable/user_guide/indexing.html#returning-a-view-versus-a-copy\n",
            "  import sys\n"
          ]
        }
      ]
    }
  ]
}